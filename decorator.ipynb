{
 "cells": [
  {
   "cell_type": "markdown",
   "metadata": {},
   "source": [
    "# 装饰器"
   ]
  },
  {
   "cell_type": "markdown",
   "metadata": {},
   "source": [
    "### deco 返回inner函数对象"
   ]
  },
  {
   "cell_type": "code",
   "execution_count": 1,
   "metadata": {},
   "outputs": [],
   "source": [
    "def deco(func):\n",
    "    def inner():\n",
    "        print('running inner()')\n",
    "    return inner"
   ]
  },
  {
   "cell_type": "code",
   "execution_count": 2,
   "metadata": {},
   "outputs": [],
   "source": [
    "@deco\n",
    "def target():\n",
    "    print('running target()')"
   ]
  },
  {
   "cell_type": "code",
   "execution_count": 3,
   "metadata": {},
   "outputs": [
    {
     "name": "stdout",
     "output_type": "stream",
     "text": [
      "running inner()\n"
     ]
    },
    {
     "data": {
      "text/plain": [
       "<function __main__.deco.<locals>.inner()>"
      ]
     },
     "execution_count": 3,
     "metadata": {},
     "output_type": "execute_result"
    }
   ],
   "source": [
    "target()\n",
    "target"
   ]
  },
  {
   "cell_type": "markdown",
   "metadata": {},
   "source": [
    "### 装饰器在定义时就已运行"
   ]
  },
  {
   "cell_type": "code",
   "execution_count": 4,
   "metadata": {},
   "outputs": [
    {
     "name": "stdout",
     "output_type": "stream",
     "text": [
      "running register(<function f1 at 0x7f0c4c511e18>)\n",
      "running register(<function f2 at 0x7f0c4c4b5268>)\n"
     ]
    }
   ],
   "source": [
    "registry = []\n",
    "\n",
    "def register(func):\n",
    "    print('running register(%s)' % func)\n",
    "    registry.append(func)\n",
    "    return func\n",
    "\n",
    "@register\n",
    "def f1():\n",
    "    print('running f1()')\n",
    "    \n",
    "@register\n",
    "def f2():\n",
    "    print('running f2()')\n",
    "    \n",
    "def f3():\n",
    "    print('running f3()')\n",
    "    \n",
    "def main():\n",
    "    print('running main()')\n",
    "    print('registry ->', registry)\n",
    "    f1()\n",
    "    f2()\n",
    "    f3()"
   ]
  },
  {
   "cell_type": "code",
   "execution_count": 5,
   "metadata": {},
   "outputs": [
    {
     "name": "stdout",
     "output_type": "stream",
     "text": [
      "running main()\n",
      "registry -> [<function f1 at 0x7f0c4c511e18>, <function f2 at 0x7f0c4c4b5268>]\n",
      "running f1()\n",
      "running f2()\n",
      "running f3()\n"
     ]
    }
   ],
   "source": [
    "main()"
   ]
  },
  {
   "cell_type": "code",
   "execution_count": 6,
   "metadata": {},
   "outputs": [
    {
     "data": {
      "text/plain": [
       "[<function __main__.f1()>, <function __main__.f2()>]"
      ]
     },
     "execution_count": 6,
     "metadata": {},
     "output_type": "execute_result"
    }
   ],
   "source": [
    "registry"
   ]
  },
  {
   "cell_type": "code",
   "execution_count": 7,
   "metadata": {},
   "outputs": [
    {
     "name": "stdout",
     "output_type": "stream",
     "text": [
      " 10           0 LOAD_GLOBAL              0 (print)\n",
      "              2 LOAD_CONST               1 ('running f1()')\n",
      "              4 CALL_FUNCTION            1\n",
      "              6 POP_TOP\n",
      "              8 LOAD_CONST               0 (None)\n",
      "             10 RETURN_VALUE\n"
     ]
    }
   ],
   "source": [
    "from dis import dis\n",
    "dis(f1)"
   ]
  },
  {
   "cell_type": "markdown",
   "metadata": {},
   "source": [
    "### 闭包/closure"
   ]
  },
  {
   "cell_type": "code",
   "execution_count": 8,
   "metadata": {},
   "outputs": [],
   "source": [
    "class Averager():\n",
    "    def __init__(self):\n",
    "        self.series = []\n",
    "    \n",
    "    def __call__(self, new_value):\n",
    "        self.series.append(new_value)\n",
    "        total = sum(self.series)\n",
    "        return total/len(self.series)\n",
    "    \n",
    "def make_average():\n",
    "    series = []\n",
    "    def averager(new_value):\n",
    "        series.append(new_value)\n",
    "        total = sum(series)\n",
    "        return total/len(series)\n",
    "    return averager"
   ]
  },
  {
   "cell_type": "code",
   "execution_count": 9,
   "metadata": {},
   "outputs": [
    {
     "name": "stdout",
     "output_type": "stream",
     "text": [
      "10.0 10.5 11.0\n"
     ]
    }
   ],
   "source": [
    "avg = Averager()\n",
    "print(avg(10), avg(11), avg(12))"
   ]
  },
  {
   "cell_type": "code",
   "execution_count": 10,
   "metadata": {},
   "outputs": [
    {
     "name": "stdout",
     "output_type": "stream",
     "text": [
      "10.0 10.5 11.0\n"
     ]
    }
   ],
   "source": [
    "avg = make_average()\n",
    "print(avg(10), avg(11), avg(12))"
   ]
  },
  {
   "cell_type": "markdown",
   "metadata": {},
   "source": [
    "in averager function, series is a free variable, 指未在本地作用域中绑定的变量。averager的闭包延伸到函数的作用域之外，包含自由变量series的绑定"
   ]
  },
  {
   "cell_type": "code",
   "execution_count": 11,
   "metadata": {},
   "outputs": [
    {
     "name": "stdout",
     "output_type": "stream",
     "text": [
      "('new_value', 'total') ('series',)\n"
     ]
    }
   ],
   "source": [
    "print(avg.__code__.co_varnames, avg.__code__.co_freevars)"
   ]
  },
  {
   "cell_type": "code",
   "execution_count": 12,
   "metadata": {},
   "outputs": [
    {
     "data": {
      "text/plain": [
       "(<cell at 0x7f0c4c5458b8: list object at 0x7f0c4c4ae908>,)"
      ]
     },
     "execution_count": 12,
     "metadata": {},
     "output_type": "execute_result"
    }
   ],
   "source": [
    "avg.__closure__"
   ]
  },
  {
   "cell_type": "code",
   "execution_count": 13,
   "metadata": {},
   "outputs": [
    {
     "data": {
      "text/plain": [
       "[10, 11, 12]"
      ]
     },
     "execution_count": 13,
     "metadata": {},
     "output_type": "execute_result"
    }
   ],
   "source": [
    "avg.__closure__[0].cell_contents"
   ]
  },
  {
   "cell_type": "markdown",
   "metadata": {},
   "source": [
    "闭包是一种函数，它会保留定义含函数时存在的自由变量的绑定。值得注意的是，只有嵌套在其他函数中的函数才可能需要处理不在全局作用域中的外部变量。"
   ]
  },
  {
   "cell_type": "markdown",
   "metadata": {},
   "source": [
    "### 使用nonlocal"
   ]
  },
  {
   "cell_type": "markdown",
   "metadata": {},
   "source": [
    "下面是更高效率的版本：只存储目前的sum和count，但存在问题。"
   ]
  },
  {
   "cell_type": "code",
   "execution_count": 14,
   "metadata": {},
   "outputs": [],
   "source": [
    "def make_averager2():\n",
    "    count = 0\n",
    "    total = 0\n",
    "    def averager(new_value):\n",
    "        count += 1\n",
    "        total += new_value\n",
    "        return total / conut\n",
    "    return averager"
   ]
  },
  {
   "cell_type": "code",
   "execution_count": 15,
   "metadata": {},
   "outputs": [
    {
     "ename": "UnboundLocalError",
     "evalue": "local variable 'count' referenced before assignment",
     "output_type": "error",
     "traceback": [
      "\u001b[0;31m---------------------------------------------------------------------------\u001b[0m",
      "\u001b[0;31mUnboundLocalError\u001b[0m                         Traceback (most recent call last)",
      "\u001b[0;32m<ipython-input-15-d0f9e3798b6e>\u001b[0m in \u001b[0;36m<module>\u001b[0;34m\u001b[0m\n\u001b[1;32m      1\u001b[0m \u001b[0mavg\u001b[0m \u001b[0;34m=\u001b[0m \u001b[0mmake_averager2\u001b[0m\u001b[0;34m(\u001b[0m\u001b[0;34m)\u001b[0m\u001b[0;34m\u001b[0m\u001b[0;34m\u001b[0m\u001b[0m\n\u001b[0;32m----> 2\u001b[0;31m \u001b[0mavg\u001b[0m\u001b[0;34m(\u001b[0m\u001b[0;36m10\u001b[0m\u001b[0;34m)\u001b[0m\u001b[0;34m\u001b[0m\u001b[0;34m\u001b[0m\u001b[0m\n\u001b[0m",
      "\u001b[0;32m<ipython-input-14-332ae4a3cf65>\u001b[0m in \u001b[0;36maverager\u001b[0;34m(new_value)\u001b[0m\n\u001b[1;32m      3\u001b[0m     \u001b[0mtotal\u001b[0m \u001b[0;34m=\u001b[0m \u001b[0;36m0\u001b[0m\u001b[0;34m\u001b[0m\u001b[0;34m\u001b[0m\u001b[0m\n\u001b[1;32m      4\u001b[0m     \u001b[0;32mdef\u001b[0m \u001b[0maverager\u001b[0m\u001b[0;34m(\u001b[0m\u001b[0mnew_value\u001b[0m\u001b[0;34m)\u001b[0m\u001b[0;34m:\u001b[0m\u001b[0;34m\u001b[0m\u001b[0;34m\u001b[0m\u001b[0m\n\u001b[0;32m----> 5\u001b[0;31m         \u001b[0mcount\u001b[0m \u001b[0;34m+=\u001b[0m \u001b[0;36m1\u001b[0m\u001b[0;34m\u001b[0m\u001b[0;34m\u001b[0m\u001b[0m\n\u001b[0m\u001b[1;32m      6\u001b[0m         \u001b[0mtotal\u001b[0m \u001b[0;34m+=\u001b[0m \u001b[0mnew_value\u001b[0m\u001b[0;34m\u001b[0m\u001b[0;34m\u001b[0m\u001b[0m\n\u001b[1;32m      7\u001b[0m         \u001b[0;32mreturn\u001b[0m \u001b[0mtotal\u001b[0m \u001b[0;34m/\u001b[0m \u001b[0mconut\u001b[0m\u001b[0;34m\u001b[0m\u001b[0;34m\u001b[0m\u001b[0m\n",
      "\u001b[0;31mUnboundLocalError\u001b[0m: local variable 'count' referenced before assignment"
     ]
    }
   ],
   "source": [
    "avg = make_averager2()\n",
    "avg(10)"
   ]
  },
  {
   "cell_type": "markdown",
   "metadata": {},
   "source": [
    "这是因为count和total是不可变类型，`count += 1`的作用其实与`count = count + 1`一样，我们在averager的定义体中为count赋值了，这会把count变为局部变量。而在`make_average`中我们只是调用了`series.append`。\n",
    "\n",
    "对于数字、字符串等不可变类型来说，只能读取不能更新，否则会隐式创建局部变量，就不能保存在闭包中了。\n",
    "\n",
    "对此问题，Python3中引入了`nonlocal`声明，用于把变量标记为自由变量。"
   ]
  },
  {
   "cell_type": "code",
   "execution_count": 16,
   "metadata": {},
   "outputs": [],
   "source": [
    "def make_averager3():\n",
    "    count = 0\n",
    "    total = 0\n",
    "    def averager(new_value):\n",
    "        nonlocal count, total\n",
    "        count += 1\n",
    "        total += new_value\n",
    "        return total / count\n",
    "    return averager"
   ]
  },
  {
   "cell_type": "code",
   "execution_count": 17,
   "metadata": {},
   "outputs": [
    {
     "data": {
      "text/plain": [
       "10.0"
      ]
     },
     "execution_count": 17,
     "metadata": {},
     "output_type": "execute_result"
    }
   ],
   "source": [
    "avg = make_averager3()\n",
    "avg(10)"
   ]
  },
  {
   "cell_type": "markdown",
   "metadata": {},
   "source": [
    "### Decorator"
   ]
  },
  {
   "cell_type": "markdown",
   "metadata": {},
   "source": [
    "输出函数的运行时间"
   ]
  },
  {
   "cell_type": "code",
   "execution_count": 72,
   "metadata": {},
   "outputs": [],
   "source": [
    "import time\n",
    "\n",
    "def clock(func):\n",
    "    def clocked(*args):\n",
    "        t0 = time.perf_counter() # perf_counter: Return the value (in fractional seconds) of a performance counter,\n",
    "                                 # substitute for time.clock()\n",
    "        result = func(*args) # func is a free variable\n",
    "        elapsed = time.perf_counter() - t0\n",
    "        name = func.__name__\n",
    "        arg_str = ', '.join(repr(arg) for arg in args)\n",
    "        print('[%0.8fs] %s(%s) -> %r' % (elapsed, name, arg_str, result))\n",
    "        return result\n",
    "    return clocked"
   ]
  },
  {
   "cell_type": "code",
   "execution_count": 73,
   "metadata": {},
   "outputs": [],
   "source": [
    "@clock\n",
    "def snooze(seconds):\n",
    "    time.sleep(seconds)\n",
    "\n",
    "@clock\n",
    "def factorial(n):\n",
    "    return 1 if n < 2 else n*factorial(n-1)"
   ]
  },
  {
   "cell_type": "code",
   "execution_count": 74,
   "metadata": {},
   "outputs": [
    {
     "name": "stdout",
     "output_type": "stream",
     "text": [
      "**************************************** Calling snooze(.123)\n",
      "[0.12322570s] snooze(0.123) -> None\n",
      "**************************************** Calling factorial(6)\n",
      "[0.00000140s] factorial(1) -> 1\n",
      "[0.00002090s] factorial(2) -> 2\n",
      "[0.00005030s] factorial(3) -> 6\n",
      "[0.00068320s] factorial(4) -> 24\n",
      "[0.00072960s] factorial(5) -> 120\n",
      "[0.00074970s] factorial(6) -> 720\n",
      "6! = 720\n"
     ]
    }
   ],
   "source": [
    "print('*'*40, \"Calling snooze(.123)\")\n",
    "snooze(.123)\n",
    "print('*'*40, \"Calling factorial(6)\")\n",
    "print('6! =', factorial(6))"
   ]
  },
  {
   "cell_type": "markdown",
   "metadata": {},
   "source": [
    "由于`@clock`在定义函数时就已经运行了，所以factorial保存的其实是clocked函数的引用："
   ]
  },
  {
   "cell_type": "code",
   "execution_count": 75,
   "metadata": {},
   "outputs": [
    {
     "data": {
      "text/plain": [
       "'clocked'"
      ]
     },
     "execution_count": 75,
     "metadata": {},
     "output_type": "execute_result"
    }
   ],
   "source": [
    "factorial.__name__"
   ]
  },
  {
   "cell_type": "markdown",
   "metadata": {},
   "source": [
    "这就是装饰器的典型行为：把被装饰的函数替换成新函数，且二者接受相同的参数，且（通常）返回被装饰的函数本该返回的值，同时进行一些额外的操作。"
   ]
  },
  {
   "cell_type": "markdown",
   "metadata": {},
   "source": [
    "上述装饰器有一些缺陷：不支持关键字参数，并且遮盖了原有函数的__name__和__doc__属性。下例使用`functools.wraps`装饰器把相关属性从func中复制到clocked中，且能正常处理关键字参数。"
   ]
  },
  {
   "cell_type": "code",
   "execution_count": 76,
   "metadata": {},
   "outputs": [],
   "source": [
    "import time\n",
    "import functools\n",
    "\n",
    "def clock2(func):\n",
    "    @functools.wraps(func)\n",
    "    def clocked(*args, **kwargs):\n",
    "        t0 = time.time()\n",
    "        result = func(*args, **kwargs)\n",
    "        elapsed = time.time() - t0\n",
    "        name = func.__name__\n",
    "        arg_lst = []\n",
    "        if args:\n",
    "            arg_lst.append(', '.join(repr(arg) for arg in args))\n",
    "        if kwargs:\n",
    "            pairs = ['%s=%r' % (k, w) for k, w in sorted(kwargs.items())]\n",
    "            arg_lst.append(', '.join(pairs))\n",
    "        arg_str = ', '.join(arg_lst)\n",
    "        print('[%0.8fs] %s(%s) -> %r' % (elapsed, name, arg_str, result))\n",
    "        return result\n",
    "    return clocked"
   ]
  },
  {
   "cell_type": "code",
   "execution_count": 77,
   "metadata": {},
   "outputs": [
    {
     "name": "stdout",
     "output_type": "stream",
     "text": [
      "**************************************** Calling snooze(.123)\n",
      "[0.12398815s] snooze(0.123) -> None\n",
      "**************************************** Calling factorial(6)\n",
      "[0.00000143s] factorial(1) -> 1\n",
      "[0.00002241s] factorial(2) -> 2\n",
      "[0.00003576s] factorial(3) -> 6\n",
      "[0.00004888s] factorial(4) -> 24\n",
      "[0.00081325s] factorial(5) -> 120\n",
      "[0.00087023s] factorial(6) -> 720\n",
      "6! = 720\n"
     ]
    }
   ],
   "source": [
    "@clock2\n",
    "def snooze(seconds):\n",
    "    time.sleep(seconds)\n",
    "\n",
    "@clock2\n",
    "def factorial(n):\n",
    "    return 1 if n < 2 else n*factorial(n-1)\n",
    "\n",
    "print('*'*40, \"Calling snooze(.123)\")\n",
    "snooze(.123)\n",
    "print('*'*40, \"Calling factorial(6)\")\n",
    "print('6! =', factorial(6))"
   ]
  },
  {
   "cell_type": "code",
   "execution_count": 78,
   "metadata": {},
   "outputs": [
    {
     "data": {
      "text/plain": [
       "'factorial'"
      ]
     },
     "execution_count": 78,
     "metadata": {},
     "output_type": "execute_result"
    }
   ],
   "source": [
    "factorial.__name__"
   ]
  },
  {
   "cell_type": "markdown",
   "metadata": {},
   "source": [
    "### 标准库中的装饰器"
   ]
  },
  {
   "cell_type": "markdown",
   "metadata": {},
   "source": [
    "`functools.lru_cache` 实现memoization功能，保存“Least Recently Used”的结果。"
   ]
  },
  {
   "cell_type": "code",
   "execution_count": 91,
   "metadata": {},
   "outputs": [],
   "source": [
    "@clock2\n",
    "def fibonacci(n):\n",
    "    if n < 2:\n",
    "        return n\n",
    "    return fibonacci(n-2) + fibonacci(n-1)"
   ]
  },
  {
   "cell_type": "code",
   "execution_count": 92,
   "metadata": {},
   "outputs": [
    {
     "name": "stdout",
     "output_type": "stream",
     "text": [
      "[0.00000191s] fibonacci(0) -> 0\n",
      "[0.00000167s] fibonacci(1) -> 1\n",
      "[0.00021434s] fibonacci(2) -> 1\n",
      "[0.00000167s] fibonacci(1) -> 1\n",
      "[0.00000167s] fibonacci(0) -> 0\n",
      "[0.00000167s] fibonacci(1) -> 1\n",
      "[0.00007319s] fibonacci(2) -> 1\n",
      "[0.00014591s] fibonacci(3) -> 2\n",
      "[0.00044775s] fibonacci(4) -> 3\n",
      "[0.00000119s] fibonacci(1) -> 1\n",
      "[0.00000143s] fibonacci(0) -> 0\n",
      "[0.00000167s] fibonacci(1) -> 1\n",
      "[0.00007224s] fibonacci(2) -> 1\n",
      "[0.00014234s] fibonacci(3) -> 2\n",
      "[0.00000119s] fibonacci(0) -> 0\n",
      "[0.00000191s] fibonacci(1) -> 1\n",
      "[0.00007224s] fibonacci(2) -> 1\n",
      "[0.00000119s] fibonacci(1) -> 1\n",
      "[0.00000119s] fibonacci(0) -> 0\n",
      "[0.00000167s] fibonacci(1) -> 1\n",
      "[0.00007272s] fibonacci(2) -> 1\n",
      "[0.00014377s] fibonacci(3) -> 2\n",
      "[0.00039649s] fibonacci(4) -> 3\n",
      "[0.00060844s] fibonacci(5) -> 5\n",
      "[0.00112677s] fibonacci(6) -> 8\n",
      "[0.00000119s] fibonacci(1) -> 1\n",
      "[0.00000143s] fibonacci(0) -> 0\n",
      "[0.00000310s] fibonacci(1) -> 1\n",
      "[0.00007176s] fibonacci(2) -> 1\n",
      "[0.00013685s] fibonacci(3) -> 2\n",
      "[0.00000119s] fibonacci(0) -> 0\n",
      "[0.00000429s] fibonacci(1) -> 1\n",
      "[0.00007510s] fibonacci(2) -> 1\n",
      "[0.00000238s] fibonacci(1) -> 1\n",
      "[0.00000191s] fibonacci(0) -> 0\n",
      "[0.00000238s] fibonacci(1) -> 1\n",
      "[0.00009489s] fibonacci(2) -> 1\n",
      "[0.00017381s] fibonacci(3) -> 2\n",
      "[0.00032711s] fibonacci(4) -> 3\n",
      "[0.00053835s] fibonacci(5) -> 5\n",
      "[0.00000143s] fibonacci(0) -> 0\n",
      "[0.00000215s] fibonacci(1) -> 1\n",
      "[0.00021482s] fibonacci(2) -> 1\n",
      "[0.00000167s] fibonacci(1) -> 1\n",
      "[0.00000191s] fibonacci(0) -> 0\n",
      "[0.00000167s] fibonacci(1) -> 1\n",
      "[0.00048733s] fibonacci(2) -> 1\n",
      "[0.00056911s] fibonacci(3) -> 2\n",
      "[0.00096202s] fibonacci(4) -> 3\n",
      "[0.00000191s] fibonacci(1) -> 1\n",
      "[0.00000167s] fibonacci(0) -> 0\n",
      "[0.00000262s] fibonacci(1) -> 1\n",
      "[0.00028563s] fibonacci(2) -> 1\n",
      "[0.00036573s] fibonacci(3) -> 2\n",
      "[0.00000286s] fibonacci(0) -> 0\n",
      "[0.00000262s] fibonacci(1) -> 1\n",
      "[0.00008845s] fibonacci(2) -> 1\n",
      "[0.00000215s] fibonacci(1) -> 1\n",
      "[0.00000238s] fibonacci(0) -> 0\n",
      "[0.00000191s] fibonacci(1) -> 1\n",
      "[0.00007010s] fibonacci(2) -> 1\n",
      "[0.00013804s] fibonacci(3) -> 2\n",
      "[0.00029826s] fibonacci(4) -> 3\n",
      "[0.00074244s] fibonacci(5) -> 5\n",
      "[0.00255489s] fibonacci(6) -> 8\n",
      "[0.00317121s] fibonacci(7) -> 13\n",
      "[0.00436640s] fibonacci(8) -> 21\n",
      "[0.00000167s] fibonacci(1) -> 1\n",
      "[0.00000668s] fibonacci(0) -> 0\n",
      "[0.00000191s] fibonacci(1) -> 1\n",
      "[0.00007677s] fibonacci(2) -> 1\n",
      "[0.00120902s] fibonacci(3) -> 2\n",
      "[0.00000191s] fibonacci(0) -> 0\n",
      "[0.00000238s] fibonacci(1) -> 1\n",
      "[0.00007582s] fibonacci(2) -> 1\n",
      "[0.00000238s] fibonacci(1) -> 1\n",
      "[0.00000167s] fibonacci(0) -> 0\n",
      "[0.00000238s] fibonacci(1) -> 1\n",
      "[0.00008249s] fibonacci(2) -> 1\n",
      "[0.00016665s] fibonacci(3) -> 2\n",
      "[0.00031614s] fibonacci(4) -> 3\n",
      "[0.00161099s] fibonacci(5) -> 5\n",
      "[0.00000167s] fibonacci(0) -> 0\n",
      "[0.00000191s] fibonacci(1) -> 1\n",
      "[0.00007272s] fibonacci(2) -> 1\n",
      "[0.00000143s] fibonacci(1) -> 1\n",
      "[0.00000167s] fibonacci(0) -> 0\n",
      "[0.00000167s] fibonacci(1) -> 1\n",
      "[0.00383711s] fibonacci(2) -> 1\n",
      "[0.00412321s] fibonacci(3) -> 2\n",
      "[0.00427747s] fibonacci(4) -> 3\n",
      "[0.00000143s] fibonacci(1) -> 1\n",
      "[0.00000334s] fibonacci(0) -> 0\n",
      "[0.00000238s] fibonacci(1) -> 1\n",
      "[0.00008750s] fibonacci(2) -> 1\n",
      "[0.00018072s] fibonacci(3) -> 2\n",
      "[0.00000119s] fibonacci(0) -> 0\n",
      "[0.00000334s] fibonacci(1) -> 1\n",
      "[0.00228763s] fibonacci(2) -> 1\n",
      "[0.00000119s] fibonacci(1) -> 1\n",
      "[0.00000119s] fibonacci(0) -> 0\n",
      "[0.00000453s] fibonacci(1) -> 1\n",
      "[0.00124693s] fibonacci(2) -> 1\n",
      "[0.00130796s] fibonacci(3) -> 2\n",
      "[0.00367737s] fibonacci(4) -> 3\n",
      "[0.00445318s] fibonacci(5) -> 5\n",
      "[0.00905323s] fibonacci(6) -> 8\n",
      "[0.01075172s] fibonacci(7) -> 13\n",
      "[0.00000191s] fibonacci(0) -> 0\n",
      "[0.00000238s] fibonacci(1) -> 1\n",
      "[0.00009036s] fibonacci(2) -> 1\n",
      "[0.00000358s] fibonacci(1) -> 1\n",
      "[0.00000238s] fibonacci(0) -> 0\n",
      "[0.00000238s] fibonacci(1) -> 1\n",
      "[0.00013065s] fibonacci(2) -> 1\n",
      "[0.00022006s] fibonacci(3) -> 2\n",
      "[0.00040627s] fibonacci(4) -> 3\n",
      "[0.00000310s] fibonacci(1) -> 1\n",
      "[0.00000119s] fibonacci(0) -> 0\n",
      "[0.00000119s] fibonacci(1) -> 1\n",
      "[0.00005198s] fibonacci(2) -> 1\n",
      "[0.00013900s] fibonacci(3) -> 2\n",
      "[0.00000119s] fibonacci(0) -> 0\n",
      "[0.00000167s] fibonacci(1) -> 1\n",
      "[0.00008750s] fibonacci(2) -> 1\n",
      "[0.00000119s] fibonacci(1) -> 1\n",
      "[0.00000119s] fibonacci(0) -> 0\n",
      "[0.00000191s] fibonacci(1) -> 1\n",
      "[0.00059748s] fibonacci(2) -> 1\n",
      "[0.00065613s] fibonacci(3) -> 2\n",
      "[0.00080085s] fibonacci(4) -> 3\n",
      "[0.00100040s] fibonacci(5) -> 5\n",
      "[0.00159574s] fibonacci(6) -> 8\n",
      "[0.00000143s] fibonacci(1) -> 1\n",
      "[0.00000358s] fibonacci(0) -> 0\n",
      "[0.00000215s] fibonacci(1) -> 1\n",
      "[0.00008988s] fibonacci(2) -> 1\n",
      "[0.00017667s] fibonacci(3) -> 2\n",
      "[0.00000286s] fibonacci(0) -> 0\n",
      "[0.00000238s] fibonacci(1) -> 1\n",
      "[0.00009036s] fibonacci(2) -> 1\n",
      "[0.00000381s] fibonacci(1) -> 1\n",
      "[0.00000358s] fibonacci(0) -> 0\n",
      "[0.00000238s] fibonacci(1) -> 1\n",
      "[0.00008917s] fibonacci(2) -> 1\n",
      "[0.00017881s] fibonacci(3) -> 2\n",
      "[0.00036597s] fibonacci(4) -> 3\n",
      "[0.00063300s] fibonacci(5) -> 5\n",
      "[0.00000167s] fibonacci(0) -> 0\n",
      "[0.00000310s] fibonacci(1) -> 1\n",
      "[0.00018859s] fibonacci(2) -> 1\n",
      "[0.00000310s] fibonacci(1) -> 1\n",
      "[0.00000334s] fibonacci(0) -> 0\n",
      "[0.00000191s] fibonacci(1) -> 1\n",
      "[0.00008965s] fibonacci(2) -> 1\n",
      "[0.00018048s] fibonacci(3) -> 2\n",
      "[0.00045943s] fibonacci(4) -> 3\n",
      "[0.00000310s] fibonacci(1) -> 1\n",
      "[0.00000358s] fibonacci(0) -> 0\n",
      "[0.00000787s] fibonacci(1) -> 1\n",
      "[0.00009370s] fibonacci(2) -> 1\n",
      "[0.00018573s] fibonacci(3) -> 2\n",
      "[0.00000119s] fibonacci(0) -> 0\n",
      "[0.00000262s] fibonacci(1) -> 1\n",
      "[0.00016499s] fibonacci(2) -> 1\n",
      "[0.00000334s] fibonacci(1) -> 1\n",
      "[0.00000429s] fibonacci(0) -> 0\n",
      "[0.00000238s] fibonacci(1) -> 1\n",
      "[0.00009346s] fibonacci(2) -> 1\n",
      "[0.00018382s] fibonacci(3) -> 2\n",
      "[0.00043774s] fibonacci(4) -> 3\n",
      "[0.00091577s] fibonacci(5) -> 5\n",
      "[0.00146317s] fibonacci(6) -> 8\n",
      "[0.00218558s] fibonacci(7) -> 13\n",
      "[0.00387311s] fibonacci(8) -> 21\n",
      "[0.01470804s] fibonacci(9) -> 34\n",
      "[0.01915383s] fibonacci(10) -> 55\n",
      "55\n"
     ]
    }
   ],
   "source": [
    "print(fibonacci(10))"
   ]
  },
  {
   "cell_type": "code",
   "execution_count": 95,
   "metadata": {},
   "outputs": [],
   "source": [
    "import functools\n",
    "\n",
    "# Call lru_cache as a normal function with '()' operator, as lru_cache can accept configuration parameters.\n",
    "# Parameters of lru_cache:\n",
    "#     Param maxsize : default: 128, how many results to cache.\n",
    "#     Param typed : default: False, whether to save different types of parameters seperately.\n",
    "@functools.lru_cache() \n",
    "@clock2\n",
    "def fibonacci2(n):\n",
    "    if n < 2:\n",
    "        return n\n",
    "    return fibonacci2(n-2) + fibonacci2(n-1)"
   ]
  },
  {
   "cell_type": "markdown",
   "metadata": {},
   "source": [
    "lru_cache使用字典来存储结果，而且键根据调用时传入的定位参数和关键字参数创建，所以被其装饰的函数的所有参数都必须hashable"
   ]
  },
  {
   "cell_type": "code",
   "execution_count": 96,
   "metadata": {},
   "outputs": [
    {
     "name": "stdout",
     "output_type": "stream",
     "text": [
      "[0.00000238s] fibonacci2(0) -> 0\n",
      "[0.00000215s] fibonacci2(1) -> 1\n",
      "[0.00021291s] fibonacci2(2) -> 1\n",
      "[0.00000286s] fibonacci2(3) -> 2\n",
      "[0.00028872s] fibonacci2(4) -> 3\n",
      "[0.00000310s] fibonacci2(5) -> 5\n",
      "[0.00036550s] fibonacci2(6) -> 8\n",
      "[0.00000262s] fibonacci2(7) -> 13\n",
      "[0.00043178s] fibonacci2(8) -> 21\n",
      "[0.00000262s] fibonacci2(9) -> 34\n",
      "[0.00049877s] fibonacci2(10) -> 55\n",
      "55\n"
     ]
    }
   ],
   "source": [
    "print(fibonacci2(10))"
   ]
  },
  {
   "cell_type": "code",
   "execution_count": null,
   "metadata": {},
   "outputs": [],
   "source": []
  }
 ],
 "metadata": {
  "kernelspec": {
   "display_name": "Python 3",
   "language": "python",
   "name": "python3"
  },
  "language_info": {
   "codemirror_mode": {
    "name": "ipython",
    "version": 3
   },
   "file_extension": ".py",
   "mimetype": "text/x-python",
   "name": "python",
   "nbconvert_exporter": "python",
   "pygments_lexer": "ipython3",
   "version": "3.7.2"
  }
 },
 "nbformat": 4,
 "nbformat_minor": 2
}
